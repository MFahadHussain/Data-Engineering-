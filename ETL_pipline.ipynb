{
  "nbformat": 4,
  "nbformat_minor": 0,
  "metadata": {
    "colab": {
      "provenance": [],
      "authorship_tag": "ABX9TyPOSLK1mU7G08WxS/vFNDXt",
      "include_colab_link": true
    },
    "kernelspec": {
      "name": "python3",
      "display_name": "Python 3"
    },
    "language_info": {
      "name": "python"
    }
  },
  "cells": [
    {
      "cell_type": "markdown",
      "metadata": {
        "id": "view-in-github",
        "colab_type": "text"
      },
      "source": [
        "<a href=\"https://colab.research.google.com/github/MFahadHussain/Data-Engineering-/blob/main/ETL_pipline.ipynb\" target=\"_parent\"><img src=\"https://colab.research.google.com/assets/colab-badge.svg\" alt=\"Open In Colab\"/></a>"
      ]
    },
    {
      "cell_type": "code",
      "source": [
        "!pip install pymysql sqlalchemy pandas\n"
      ],
      "metadata": {
        "colab": {
          "base_uri": "https://localhost:8080/"
        },
        "id": "B6BSBF-ZqF3a",
        "outputId": "48610dc7-223f-44ef-873c-cd5181e0e8de"
      },
      "execution_count": 1,
      "outputs": [
        {
          "output_type": "stream",
          "name": "stdout",
          "text": [
            "Collecting pymysql\n",
            "  Downloading PyMySQL-1.1.1-py3-none-any.whl.metadata (4.4 kB)\n",
            "Requirement already satisfied: sqlalchemy in /usr/local/lib/python3.11/dist-packages (2.0.40)\n",
            "Requirement already satisfied: pandas in /usr/local/lib/python3.11/dist-packages (2.2.2)\n",
            "Requirement already satisfied: greenlet>=1 in /usr/local/lib/python3.11/dist-packages (from sqlalchemy) (3.2.1)\n",
            "Requirement already satisfied: typing-extensions>=4.6.0 in /usr/local/lib/python3.11/dist-packages (from sqlalchemy) (4.13.2)\n",
            "Requirement already satisfied: numpy>=1.23.2 in /usr/local/lib/python3.11/dist-packages (from pandas) (2.0.2)\n",
            "Requirement already satisfied: python-dateutil>=2.8.2 in /usr/local/lib/python3.11/dist-packages (from pandas) (2.8.2)\n",
            "Requirement already satisfied: pytz>=2020.1 in /usr/local/lib/python3.11/dist-packages (from pandas) (2025.2)\n",
            "Requirement already satisfied: tzdata>=2022.7 in /usr/local/lib/python3.11/dist-packages (from pandas) (2025.2)\n",
            "Requirement already satisfied: six>=1.5 in /usr/local/lib/python3.11/dist-packages (from python-dateutil>=2.8.2->pandas) (1.17.0)\n",
            "Downloading PyMySQL-1.1.1-py3-none-any.whl (44 kB)\n",
            "\u001b[?25l   \u001b[90m━━━━━━━━━━━━━━━━━━━━━━━━━━━━━━━━━━━━━━━━\u001b[0m \u001b[32m0.0/45.0 kB\u001b[0m \u001b[31m?\u001b[0m eta \u001b[36m-:--:--\u001b[0m\r\u001b[2K   \u001b[90m━━━━━━━━━━━━━━━━━━━━━━━━━━━━━━━━━━━━━━━━\u001b[0m \u001b[32m45.0/45.0 kB\u001b[0m \u001b[31m2.7 MB/s\u001b[0m eta \u001b[36m0:00:00\u001b[0m\n",
            "\u001b[?25hInstalling collected packages: pymysql\n",
            "Successfully installed pymysql-1.1.1\n"
          ]
        }
      ]
    },
    {
      "cell_type": "code",
      "execution_count": 2,
      "metadata": {
        "id": "TkT1pTRgpvqL"
      },
      "outputs": [],
      "source": [
        "import pandas as pd\n",
        "from sqlalchemy import create_engine\n",
        "\n",
        "# Step 1: Extract - Read CSV\n",
        "print(\"Extracting data from CSV...\")\n",
        "df = pd.read_csv('/content/sample_data/salesdata.csv')\n",
        "print(df.head())\n",
        "\n",
        "# Step 2: Transform - Clean the data\n",
        "print(\"\\nCleaning data...\")\n",
        "df['customer_name'] = df['customer_name'].str.title()  # Proper case for names\n",
        "df['product'] = df['product'].str.strip()              # Remove extra spaces\n",
        "df['order_date'] = pd.to_datetime(df['order_date'])     # Convert to datetime\n",
        "df['total_price'] = df['quantity'] * df['price']        # Calculate total price\n",
        "\n",
        "print(df.head())\n",
        "\n",
        "# Step 3: Load - Insert into MySQL\n",
        "print(\"\\nLoading data into MySQL...\")\n",
        "\n",
        "# MySQL database connection details\n",
        "username = 'root'\n",
        "password = '*******'\n",
        "host = '127.0.0.1'\n",
        "port = '3306'\n",
        "database = 'online'\n",
        "\n",
        "# Create the connection engine for MySQL\n",
        "engine = create_engine(f'mysql+pymysql://{username}:{password}@{host}:{port}/{database}')\n",
        "\n",
        "# Load data into a table named 'sales'\n",
        "df.to_sql('sales', engine, if_exists='replace', index=False)\n",
        "\n",
        "print(\"\\n✅ ETL Process Completed Successfully!\")\n"
      ]
    },
    {
      "cell_type": "code",
      "source": [],
      "metadata": {
        "id": "1qNFEMQzsxH7"
      },
      "execution_count": null,
      "outputs": []
    }
  ]
}