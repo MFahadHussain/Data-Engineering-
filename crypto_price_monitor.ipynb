{
  "nbformat": 4,
  "nbformat_minor": 0,
  "metadata": {
    "colab": {
      "provenance": [],
      "authorship_tag": "ABX9TyN4ydYptqKYIUvifNft7SgK",
      "include_colab_link": true
    },
    "kernelspec": {
      "name": "python3",
      "display_name": "Python 3"
    },
    "language_info": {
      "name": "python"
    }
  },
  "cells": [
    {
      "cell_type": "markdown",
      "metadata": {
        "id": "view-in-github",
        "colab_type": "text"
      },
      "source": [
        "<a href=\"https://colab.research.google.com/github/MFahadHussain/Data-Engineering-/blob/main/crypto_price_monitor.ipynb\" target=\"_parent\"><img src=\"https://colab.research.google.com/assets/colab-badge.svg\" alt=\"Open In Colab\"/></a>"
      ]
    },
    {
      "cell_type": "code",
      "execution_count": 1,
      "metadata": {
        "colab": {
          "base_uri": "https://localhost:8080/"
        },
        "id": "2kH7Y4CLzeOM",
        "outputId": "7ca0c567-6f40-4416-8538-1ca8da04a3c8"
      },
      "outputs": [
        {
          "output_type": "stream",
          "name": "stdout",
          "text": [
            "Empty DataFrame\n",
            "Columns: [Name, Price]\n",
            "Index: []\n"
          ]
        }
      ],
      "source": [
        "import requests\n",
        "from bs4 import BeautifulSoup\n",
        "import pandas as pd\n",
        "\n",
        "url = 'https://coinmarketcap.com/'\n",
        "\n",
        "headers = {\n",
        "    'User-Agent': 'Mozilla/5.0'\n",
        "}\n",
        "\n",
        "response = requests.get(url, headers=headers)\n",
        "soup = BeautifulSoup(response.content, 'html.parser')\n",
        "\n",
        "# Containers holding each coin row\n",
        "rows = soup.find_all('tr', class_='cmc-table-row')\n",
        "\n",
        "data = []\n",
        "for row in rows[:10]:  # Top 10\n",
        "    try:\n",
        "        name = row.find('p', class_='sc-4984dd93-0').text\n",
        "        price = row.find('span', class_='sc-7bc56c81-0').text\n",
        "        data.append([name, price])\n",
        "    except:\n",
        "        continue\n",
        "\n",
        "df = pd.DataFrame(data, columns=['Name', 'Price'])\n",
        "print(df)\n"
      ]
    },
    {
      "cell_type": "code",
      "source": [
        "import requests\n",
        "\n",
        "url = 'https://pro-api.coinmarketcap.com/v1/cryptocurrency/listings/latest'\n",
        "headers = {\n",
        "    'X-CMC_PRO_API_KEY': '2ce92bb5-cf5a-4206-9078-283014eb1f44',\n",
        "    'Accepts': 'application/json'\n",
        "}\n",
        "\n",
        "response = requests.get(url, headers=headers)\n",
        "data = response.json()\n",
        "\n",
        "# Parse and print top 5 coin names and prices\n",
        "for coin in data['data'][:5]:\n",
        "    print(f\"{coin['name']}: ${coin['quote']['USD']['price']:.2f}\")\n"
      ],
      "metadata": {
        "colab": {
          "base_uri": "https://localhost:8080/"
        },
        "id": "nPokFyaqzrGH",
        "outputId": "a955460a-0d0f-41af-bd72-d6d4408f8f7d"
      },
      "execution_count": 2,
      "outputs": [
        {
          "output_type": "stream",
          "name": "stdout",
          "text": [
            "Bitcoin: $94726.36\n",
            "Ethereum: $1822.14\n",
            "Tether USDt: $1.00\n",
            "XRP: $2.16\n",
            "BNB: $599.11\n"
          ]
        }
      ]
    },
    {
      "cell_type": "code",
      "source": [
        "import requests\n",
        "import pandas as pd\n",
        "\n",
        "url = 'https://pro-api.coinmarketcap.com/v1/cryptocurrency/listings/latest'\n",
        "\n",
        "headers = {\n",
        "    'Accepts': 'application/json',\n",
        "    'X-CMC_PRO_API_KEY': '2ce92bb5-cf5a-4206-9078-283014eb1f44'\n",
        "}\n",
        "\n",
        "params = {\n",
        "    'start': '1',\n",
        "    'limit': '10',\n",
        "    'convert': 'USD'\n",
        "}\n",
        "\n",
        "response = requests.get(url, headers=headers, params=params)\n",
        "data = response.json()[\"data\"]\n",
        "\n",
        "coins = []\n",
        "\n",
        "for coin in data:\n",
        "    coins.append({\n",
        "        \"Name\": coin[\"name\"],\n",
        "        \"Symbol\": coin[\"symbol\"],\n",
        "        \"Price (USD)\": round(coin[\"quote\"][\"USD\"][\"price\"], 3),\n",
        "        \"24h Change (%)\": round(coin[\"quote\"][\"USD\"][\"percent_change_24h\"], 2),\n",
        "        \"7d Change (%)\": round(coin[\"quote\"][\"USD\"][\"percent_change_7d\"], 2),\n",
        "        \"Market Cap\": round(coin[\"quote\"][\"USD\"][\"market_cap\"], 2),\n",
        "        \"Volume (24h)\": round(coin[\"quote\"][\"USD\"][\"volume_24h\"], 2),\n",
        "        \"Last Updated\": coin[\"last_updated\"]\n",
        "    })\n",
        "\n",
        "df = pd.DataFrame(coins)\n",
        "\n",
        "# Save to CSV (for Power BI or Excel)\n",
        "timestamp = datetime.now().strftime(\"%Y-%m-%d_%H-%M\")\n",
        "filename = f\"crypto_prices_{timestamp}.csv\"\n",
        "df.to_csv(filename, index=False)\n",
        "\n",
        "print(f\"✅ Data saved to {filename}\")\n",
        "\n"
      ],
      "metadata": {
        "id": "amArO0uV0Zhy"
      },
      "execution_count": null,
      "outputs": []
    },
    {
      "cell_type": "code",
      "source": [
        "from datetime import datetime\n"
      ],
      "metadata": {
        "id": "NpGuN7Pc1vMW"
      },
      "execution_count": 4,
      "outputs": []
    },
    {
      "cell_type": "code",
      "source": [],
      "metadata": {
        "id": "3AP23K3i12Js"
      },
      "execution_count": null,
      "outputs": []
    }
  ]
}