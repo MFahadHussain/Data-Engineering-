{
  "nbformat": 4,
  "nbformat_minor": 0,
  "metadata": {
    "colab": {
      "provenance": [],
      "authorship_tag": "ABX9TyMUjtDZXn9AKXvLGlEzbWqU",
      "include_colab_link": true
    },
    "kernelspec": {
      "name": "python3",
      "display_name": "Python 3"
    },
    "language_info": {
      "name": "python"
    }
  },
  "cells": [
    {
      "cell_type": "markdown",
      "metadata": {
        "id": "view-in-github",
        "colab_type": "text"
      },
      "source": [
        "<a href=\"https://colab.research.google.com/github/MFahadHussain/Data-Engineering-/blob/main/Cleaning_Transformation.ipynb\" target=\"_parent\"><img src=\"https://colab.research.google.com/assets/colab-badge.svg\" alt=\"Open In Colab\"/></a>"
      ]
    },
    {
      "cell_type": "markdown",
      "source": [
        "Cleaning Raw CSV Data:\n",
        "\n"
      ],
      "metadata": {
        "id": "O-mx-ZkWqR8M"
      }
    },
    {
      "cell_type": "code",
      "execution_count": null,
      "metadata": {
        "id": "Nw5GG1TNp5fr"
      },
      "outputs": [],
      "source": [
        "import pandas as pd\n",
        "\n",
        "# Load the raw CSV file into a DataFrame\n",
        "csv_file = 'raw_data.csv'\n",
        "df = pd.read_csv(csv_file)\n",
        "\n",
        "# Preview the data\n",
        "print(\"Raw CSV Data:\")\n",
        "print(df.head())\n",
        "\n",
        "# Remove any leading/trailing spaces in column names\n",
        "df.columns = df.columns.str.strip()\n",
        "\n",
        "# Handle missing values: Fill with a default value or drop\n",
        "df.fillna('N/A', inplace=True)\n",
        "\n",
        "# Remove duplicates\n",
        "df.drop_duplicates(inplace=True)\n",
        "\n",
        "# Convert columns to appropriate data types (if necessary)\n",
        "df['date_column'] = pd.to_datetime(df['date_column'], errors='coerce')\n",
        "\n",
        "# Save the cleaned data to a new CSV file\n",
        "df.to_csv('cleaned_data.csv', index=False)\n",
        "\n",
        "print(\"\\nCleaned CSV Data:\")\n",
        "print(df.head())\n"
      ]
    },
    {
      "cell_type": "markdown",
      "source": [
        "Cleaning Raw JSON Data:\n",
        "\n"
      ],
      "metadata": {
        "id": "hv9e3B_7qVan"
      }
    },
    {
      "cell_type": "code",
      "source": [
        "import pandas as pd\n",
        "import json\n",
        "\n",
        "# Load raw JSON data into a DataFrame\n",
        "json_file = 'raw_data.json'\n",
        "\n",
        "# If it's a JSON file with an array of records:\n",
        "with open(json_file, 'r') as file:\n",
        "    data = json.load(file)\n",
        "\n",
        "df = pd.json_normalize(data)\n",
        "\n",
        "# Preview the data\n",
        "print(\"Raw JSON Data:\")\n",
        "print(df.head())\n",
        "\n",
        "# Clean up column names by removing extra spaces\n",
        "df.columns = df.columns.str.strip()\n",
        "\n",
        "# Handle missing values\n",
        "df.fillna('N/A', inplace=True)\n",
        "\n",
        "# Remove duplicates\n",
        "df.drop_duplicates(inplace=True)\n",
        "\n",
        "# Save cleaned JSON data to a new CSV file\n",
        "df.to_csv('cleaned_json_data.csv', index=False)\n",
        "\n",
        "print(\"\\nCleaned JSON Data:\")\n",
        "print(df.head())\n"
      ],
      "metadata": {
        "id": "ES9h0sAmqL8a"
      },
      "execution_count": null,
      "outputs": []
    },
    {
      "cell_type": "markdown",
      "source": [
        "Explanation:\n",
        "CSV Data: The script reads a raw CSV file, strips spaces from column names, fills missing values with 'N/A', removes duplicate rows, and saves the cleaned data.\n",
        "\n",
        "JSON Data: The script reads a raw JSON file (array of records), normalizes the nested JSON into a flat DataFrame, cleans the data, and saves it as a CSV."
      ],
      "metadata": {
        "id": "CwgWX183qbOT"
      }
    },
    {
      "cell_type": "code",
      "source": [
        "import requests\n",
        "import pandas as pd\n",
        "from datetime import datetime\n",
        "\n",
        "# Step 1: Extract data from COVID API\n",
        "def extract_data():\n",
        "    url = \"https://disease.sh/v3/covid-19/countries\"\n",
        "    response = requests.get(url)\n",
        "    if response.status_code == 200:\n",
        "        return response.json()\n",
        "    else:\n",
        "        raise Exception(\"Failed to fetch data from API\")\n",
        "\n",
        "# Step 2: Transform data using Pandas\n",
        "def transform_data(raw_json):\n",
        "    df = pd.json_normalize(raw_json)\n",
        "    selected_columns = [\n",
        "        'country', 'cases', 'todayCases', 'deaths', 'todayDeaths',\n",
        "        'recovered', 'active', 'critical', 'casesPerOneMillion'\n",
        "    ]\n",
        "    df = df[selected_columns]\n",
        "    df['report_time'] = datetime.utcnow()\n",
        "    return df\n",
        "\n",
        "# Step 3: Load to CSV\n",
        "def load_data(df, filename=\"covid_report.csv\"):\n",
        "    df.to_csv(filename, index=False)\n",
        "    print(f\"✅ Data saved to {filename}\")\n",
        "\n",
        "# Run ETL\n",
        "if __name__ == \"__main__\":\n",
        "    try:\n",
        "        raw_data = extract_data()\n",
        "        df_transformed = transform_data(raw_data)\n",
        "        load_data(df_transformed)\n",
        "    except Exception as e:\n",
        "        print(f\"❌ Pipeline failed: {e}\")\n"
      ],
      "metadata": {
        "colab": {
          "base_uri": "https://localhost:8080/"
        },
        "id": "IgPpm_izqcVy",
        "outputId": "e8eb99d0-a7ef-4629-f0f9-fe72b2f8e5e6"
      },
      "execution_count": 1,
      "outputs": [
        {
          "output_type": "stream",
          "name": "stdout",
          "text": [
            "✅ Data saved to covid_report.csv\n"
          ]
        }
      ]
    },
    {
      "cell_type": "code",
      "source": [],
      "metadata": {
        "id": "G8pK-xu8JGeU"
      },
      "execution_count": null,
      "outputs": []
    }
  ]
}